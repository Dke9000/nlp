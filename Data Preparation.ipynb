{
 "cells": [
  {
   "cell_type": "markdown",
   "metadata": {},
   "source": [
    "### Getting data - Headlines"
   ]
  },
  {
   "cell_type": "code",
   "execution_count": null,
   "metadata": {},
   "outputs": [],
   "source": [
    "import pandas as pd\n",
    "\n",
    "full_data = pd.read_json('input/Sarcasm_Headlines_Dataset.json', lines=True)\n",
    "\n",
    "full_data = full_data.drop(['article_link'], axis=1)\n",
    "full_data = full_data.rename(index=str, columns={'headline': 'content', 'is_sarcastic': 'sarcastic'})\n",
    "\n",
    "print(full_data.head())"
   ]
  },
  {
   "cell_type": "markdown",
   "metadata": {},
   "source": [
    "### Getting data - Reddit"
   ]
  },
  {
   "cell_type": "code",
   "execution_count": null,
   "metadata": {},
   "outputs": [],
   "source": [
    "df_reddit = pd.read_csv('input/train-balanced-sarcasm.csv')\n",
    "\n",
    "df_reddit['content'] = df_reddit['comment']\n",
    "#df_reddit['content'] = df_reddit['parent_comment'].astype(str).str.cat(df_reddit['comment'].astype(str), sep='. ')\n",
    "df_reddit = df_reddit.drop(['author', 'ups', 'score', 'downs', 'date', 'created_utc', 'subreddit', 'parent_comment', 'comment'], axis=1)\n",
    "df_reddit = df_reddit.rename(index=str, columns={'label': 'sarcastic'})\n",
    "\n",
    "print(df_reddit.head())"
   ]
  },
  {
   "cell_type": "markdown",
   "metadata": {},
   "source": [
    "### Concatenating data"
   ]
  },
  {
   "cell_type": "code",
   "execution_count": null,
   "metadata": {},
   "outputs": [],
   "source": [
    "print(len(df_reddit))\n",
    "print(len(full_data))\n",
    "\n",
    "full_data_final = pd.concat([full_data, df_reddit[:]])\n",
    "\n",
    "print(len(full_data_final))\n",
    "print(full_data_final.head())"
   ]
  },
  {
   "cell_type": "markdown",
   "metadata": {},
   "source": [
    "### Droping NaN values and reseting index"
   ]
  },
  {
   "cell_type": "code",
   "execution_count": null,
   "metadata": {},
   "outputs": [],
   "source": [
    "full_data_final.dropna(subset=['content'], inplace=True)\n",
    "full_data_final = full_data_final.reset_index(drop=True)\n",
    "print(full_data_final['sarcastic'].value_counts())"
   ]
  },
  {
   "cell_type": "markdown",
   "metadata": {},
   "source": [
    "### Balancing data"
   ]
  },
  {
   "cell_type": "code",
   "execution_count": null,
   "metadata": {},
   "outputs": [],
   "source": [
    "labels_neg = full_data_final['sarcastic'].value_counts()[0]\n",
    "labels_sar = full_data_final['sarcastic'].value_counts()[1]\n",
    "\n",
    "imbalance_count = abs(labels_neg - labels_sar)\n",
    "print(imbalance_count)\n",
    "\n",
    "to_add = []\n",
    "\n",
    "added = 0\n",
    "if labels_sar < labels_neg:\n",
    "    for index, row in df_reddit[100001:].iterrows():\n",
    "        if row['sarcastic'] == 1:\n",
    "            to_add.append((row['content'], row['sarcastic']))\n",
    "            added += 1\n",
    "            if added >= imbalance_count:\n",
    "                break\n",
    "else:\n",
    "    for index, row in df_reddit[100001:].iterrows():\n",
    "        if row['sarcastic'] == 0:\n",
    "            to_add.append((row['content'], row['sarcastic']))\n",
    "            added += 1\n",
    "            if added >= imbalance_count:\n",
    "                break\n",
    "\n",
    "df_add = pd.DataFrame(to_add)\n",
    "df_add = df_add.rename(index=str, columns={0: 'content', 1: 'sarcastic'})\n",
    "print((df_add.head()))\n",
    "\n",
    "full_data_final = pd.concat([full_data_final, df_add])\n",
    "\n",
    "print('Balanced:')\n",
    "print(full_data_final['sarcastic'].value_counts())"
   ]
  },
  {
   "cell_type": "markdown",
   "metadata": {},
   "source": [
    "### Saving data to .csv file"
   ]
  },
  {
   "cell_type": "code",
   "execution_count": null,
   "metadata": {},
   "outputs": [],
   "source": [
    "full_data_final.to_csv('input/full_data_final.csv')"
   ]
  },
  {
   "cell_type": "code",
   "execution_count": null,
   "metadata": {},
   "outputs": [],
   "source": []
  }
 ],
 "metadata": {
  "kernelspec": {
   "display_name": "Python 3",
   "language": "python",
   "name": "python3"
  },
  "language_info": {
   "codemirror_mode": {
    "name": "ipython",
    "version": 3
   },
   "file_extension": ".py",
   "mimetype": "text/x-python",
   "name": "python",
   "nbconvert_exporter": "python",
   "pygments_lexer": "ipython3",
   "version": "3.6.7"
  }
 },
 "nbformat": 4,
 "nbformat_minor": 2
}
